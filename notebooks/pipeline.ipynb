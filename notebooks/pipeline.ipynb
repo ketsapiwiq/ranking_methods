{
 "cells": [
  {
   "cell_type": "markdown",
   "id": "61666521",
   "metadata": {},
   "source": [
    "# `RankingPipeline`\n",
    "\n",
    "Dans ce script on teste la pipeline complète."
   ]
  },
  {
   "cell_type": "markdown",
   "id": "b395c80f",
   "metadata": {},
   "source": [
    "## Calcul des scores\n",
    "\n",
    "La méthode `run` lance le calcul des scores."
   ]
  },
  {
   "cell_type": "code",
   "execution_count": null,
   "id": "9ca2d365",
   "metadata": {},
   "outputs": [],
   "source": [
    "import os\n",
    "from getpass import getpass\n",
    "\n",
    "cache_dir = input(\"Indicate path to all Hugging Face caches:\")\n",
    "os.environ[\"HF_DATASETS_CACHE\"] = cache_dir\n",
    "os.environ[\"HF_HUB_CACHE\"] = cache_dir\n",
    "os.environ[\"HF_TOKEN\"] = getpass(\"Enter your HuggingFace token:\")"
   ]
  },
  {
   "cell_type": "code",
   "execution_count": null,
   "id": "b3074abe",
   "metadata": {},
   "outputs": [],
   "source": [
    "from rank_comparia.pipeline import RankingPipeline"
   ]
  },
  {
   "cell_type": "code",
   "execution_count": null,
   "id": "05af6e2a",
   "metadata": {},
   "outputs": [],
   "source": [
    "pipeline = RankingPipeline(\n",
    "    method=\"elo_random\",\n",
    "    include_votes=True,\n",
    "    include_reactions=True,\n",
    "    bootstrap_samples=5,\n",
    "    batch=False,\n",
    "    export_graphs=False,\n",
    ")"
   ]
  },
  {
   "cell_type": "code",
   "execution_count": null,
   "id": "0e0e8637",
   "metadata": {},
   "outputs": [],
   "source": [
    "pipeline.matches"
   ]
  },
  {
   "cell_type": "code",
   "execution_count": null,
   "id": "1e05ab48",
   "metadata": {},
   "outputs": [],
   "source": [
    "pipeline.match_list()"
   ]
  },
  {
   "cell_type": "code",
   "execution_count": null,
   "id": "b1574044",
   "metadata": {},
   "outputs": [],
   "source": [
    "pipeline.run()"
   ]
  },
  {
   "cell_type": "markdown",
   "id": "914dc5de",
   "metadata": {},
   "source": [
    "## Pipeline avec un ranker alternatif"
   ]
  },
  {
   "cell_type": "code",
   "execution_count": null,
   "id": "33484b1c",
   "metadata": {},
   "outputs": [],
   "source": [
    "pipeline = RankingPipeline(\n",
    "    method=\"ml\", include_votes=True, include_reactions=True, bootstrap_samples=5, batch=False, export_graphs=False\n",
    ")"
   ]
  },
  {
   "cell_type": "code",
   "execution_count": null,
   "id": "19d46e7e",
   "metadata": {},
   "outputs": [],
   "source": [
    "pipeline.run()"
   ]
  },
  {
   "cell_type": "markdown",
   "id": "4cbd13bf",
   "metadata": {},
   "source": [
    "## Scores par catégorie\n",
    "\n",
    "Les méthodes `run_category` et `run_all_categories` permettent de calculer des scores pour une catégorie spécifiée ou pour toutes les catégories (avec un nombre de matchs total supérieur à un seuil)."
   ]
  },
  {
   "cell_type": "code",
   "execution_count": null,
   "id": "8f335bbb",
   "metadata": {},
   "outputs": [],
   "source": [
    "pipeline = RankingPipeline(\n",
    "    method=\"elo_random\",\n",
    "    include_votes=True,\n",
    "    include_reactions=True,\n",
    "    bootstrap_samples=5,\n",
    "    batch=False,\n",
    "    export_graphs=False,\n",
    ")"
   ]
  },
  {
   "cell_type": "code",
   "execution_count": null,
   "id": "ccbcb453",
   "metadata": {},
   "outputs": [],
   "source": [
    "pipeline.run_category(\"Education\")"
   ]
  },
  {
   "cell_type": "code",
   "execution_count": null,
   "id": "efc06527",
   "metadata": {},
   "outputs": [],
   "source": [
    "results = pipeline.run_all_categories()"
   ]
  },
  {
   "cell_type": "code",
   "execution_count": null,
   "id": "3972e690",
   "metadata": {},
   "outputs": [],
   "source": []
  }
 ],
 "metadata": {
  "kernelspec": {
   "display_name": "rank-comparia-SXEyBiqD-py3.11",
   "language": "python",
   "name": "python3"
  },
  "language_info": {
   "codemirror_mode": {
    "name": "ipython",
    "version": 3
   },
   "file_extension": ".py",
   "mimetype": "text/x-python",
   "name": "python",
   "nbconvert_exporter": "python",
   "pygments_lexer": "ipython3",
   "version": "3.11.2"
  }
 },
 "nbformat": 4,
 "nbformat_minor": 5
}
