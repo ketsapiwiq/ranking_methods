{
 "cells": [
  {
   "cell_type": "markdown",
   "id": "61666521",
   "metadata": {},
   "source": [
    "# `RankingPipeline`\n",
    "\n",
    "Dans ce script on teste la pipeline complète, permettant de paramétrer les méthodes de calcul des scores."
   ]
  },
  {
   "cell_type": "markdown",
   "id": "b395c80f",
   "metadata": {},
   "source": [
    "## Calcul des scores\n",
    "\n",
    "La méthode `run` lance le calcul des scores."
   ]
  },
  {
   "cell_type": "code",
   "execution_count": null,
   "id": "9ca2d365",
   "metadata": {},
   "outputs": [],
   "source": [
    "import os\n",
    "from getpass import getpass\n",
    "\n",
    "cache_dir = input(\"Indicate path to all Hugging Face caches:\")\n",
    "os.environ[\"HF_DATASETS_CACHE\"] = cache_dir\n",
    "os.environ[\"HF_HUB_CACHE\"] = cache_dir\n",
    "os.environ[\"HF_TOKEN\"] = getpass(\"Enter your HuggingFace token:\")"
   ]
  },
  {
   "cell_type": "code",
   "execution_count": null,
   "id": "b3074abe",
   "metadata": {},
   "outputs": [],
   "source": [
    "from pathlib import Path\n",
    "from rank_comparia.pipeline import RankingPipeline"
   ]
  },
  {
   "cell_type": "markdown",
   "id": "7fceda6d",
   "metadata": {},
   "source": [
    "### Paramètres de `RankingPipeline`  \n",
    "\n",
    "- `method` : Méthode de classement utilisé : `elo_random`, `elo_ordered`, `ml`  \n",
    "- `include_votes` : Utilisation des données de votes  \n",
    "- `include_reactions` : Utilisation des données de réactions\n",
    "- `bootstrap_samples` : Nombres d'échantillons pour cacluler la version *Bootstrap*  \n",
    "- `batch` : si on batch le nombre de match \n",
    "- `export_graphs` : le chemin vers le dossier dans lequel exporter les graphes"
   ]
  },
  {
   "cell_type": "code",
   "execution_count": null,
   "id": "05af6e2a",
   "metadata": {},
   "outputs": [],
   "source": [
    "pipeline = RankingPipeline(\n",
    "    method=\"elo_random\",\n",
    "    include_votes=True,\n",
    "    include_reactions=True,\n",
    "    bootstrap_samples=5,\n",
    "    batch=False,\n",
    "    export_path=Path(\"output\"),\n",
    ")"
   ]
  },
  {
   "cell_type": "code",
   "execution_count": null,
   "id": "0e0e8637",
   "metadata": {},
   "outputs": [],
   "source": [
    "pipeline.matches"
   ]
  },
  {
   "cell_type": "code",
   "execution_count": null,
   "id": "1e05ab48",
   "metadata": {},
   "outputs": [],
   "source": [
    "pipeline.match_list()"
   ]
  },
  {
   "cell_type": "code",
   "execution_count": null,
   "id": "b1574044",
   "metadata": {},
   "outputs": [],
   "source": [
    "scores = pipeline.run()"
   ]
  },
  {
   "cell_type": "code",
   "execution_count": null,
   "id": "5dc9bc99",
   "metadata": {},
   "outputs": [],
   "source": [
    "scores"
   ]
  },
  {
   "cell_type": "markdown",
   "id": "140dac27",
   "metadata": {},
   "source": [
    "### Une autre méthode de calcul \n",
    "\n",
    "Ici on utilise uniquement les données de votes."
   ]
  },
  {
   "cell_type": "code",
   "execution_count": null,
   "id": "1e971e65",
   "metadata": {},
   "outputs": [],
   "source": [
    "pipeline = RankingPipeline(\n",
    "    method=\"elo_random\",\n",
    "    include_votes=True,\n",
    "    include_reactions=False,\n",
    "    bootstrap_samples=5,\n",
    "    batch=False,\n",
    ")\n",
    "scores_votes = pipeline.run()"
   ]
  },
  {
   "cell_type": "code",
   "execution_count": null,
   "id": "0c91a29d",
   "metadata": {},
   "outputs": [],
   "source": [
    "scores_votes"
   ]
  },
  {
   "cell_type": "markdown",
   "id": "914dc5de",
   "metadata": {},
   "source": [
    "## Pipeline avec un ranker alternatif\n",
    "\n",
    "Utilisation du Ranker `MaximumLikelihood`"
   ]
  },
  {
   "cell_type": "code",
   "execution_count": null,
   "id": "33484b1c",
   "metadata": {},
   "outputs": [],
   "source": [
    "pipeline = RankingPipeline(method=\"ml\", include_votes=True, include_reactions=True, bootstrap_samples=5, batch=False)"
   ]
  },
  {
   "cell_type": "code",
   "execution_count": null,
   "id": "19d46e7e",
   "metadata": {},
   "outputs": [],
   "source": [
    "scores_ml = pipeline.run()"
   ]
  },
  {
   "cell_type": "code",
   "execution_count": null,
   "id": "f76592e9",
   "metadata": {},
   "outputs": [],
   "source": [
    "pipeline = RankingPipeline(method=\"ml\", include_votes=True, include_reactions=False, bootstrap_samples=5, batch=False)\n",
    "scores_ml_votes = pipeline.run()"
   ]
  },
  {
   "cell_type": "markdown",
   "id": "b66711d3",
   "metadata": {},
   "source": [
    "## Comparaison des différentes méthodes"
   ]
  },
  {
   "cell_type": "code",
   "execution_count": null,
   "id": "159fa36a",
   "metadata": {},
   "outputs": [],
   "source": [
    "import polars as pl\n",
    "\n",
    "pl.concat(\n",
    "    [\n",
    "        scores.select(\"model\", \"median\").rename(mapping={\"median\": \"score_elo\"}),\n",
    "        scores_votes.select(\"model\", \"median\").rename(mapping={\"median\": \"score_elo_votes\"}),\n",
    "        scores_ml.select(\"model\", \"median\").rename(mapping={\"median\": \"score_ml\"}),\n",
    "        scores_ml_votes.select(\"model\", \"median\").rename(mapping={\"median\": \"score_ml_votes\"}),\n",
    "    ],\n",
    "    how=\"align\",\n",
    ")"
   ]
  },
  {
   "cell_type": "code",
   "execution_count": null,
   "id": "953a2437",
   "metadata": {},
   "outputs": [],
   "source": [
    "import polars as pl\n",
    "import altair as alt\n",
    "\n",
    "df_pl = pl.concat(\n",
    "    [\n",
    "        scores.select(\"model\", \"median\").rename(mapping={\"median\": \"score_elo\"}),\n",
    "        scores_votes.select(\"model\", \"median\").rename(mapping={\"median\": \"score_elo_votes\"}),\n",
    "        scores_ml.select(\"model\", \"median\").rename(mapping={\"median\": \"score_ml\"}),\n",
    "        scores_ml_votes.select(\"model\", \"median\").rename(mapping={\"median\": \"score_ml_votes\"}),\n",
    "    ],\n",
    "    how=\"align\",\n",
    ").sort(\"score_elo\", descending=True)\n",
    "\n",
    "df = df_pl.to_pandas()\n",
    "df_long = df.melt(\n",
    "    id_vars=[\"model\"],\n",
    "    value_vars=[\"score_elo\", \"score_elo_votes\", \"score_ml\", \"score_ml_votes\"],\n",
    "    var_name=\"score_type\",\n",
    "    value_name=\"score\",\n",
    ")\n",
    "legend_labels = {\n",
    "    \"score_elo\": \"Elo score (all data)\",\n",
    "    \"score_elo_votes\": \"Elo score (votes data)\",\n",
    "    \"score_ml\": \"BT score (all data)\",\n",
    "    \"score_ml_votes\": \"BT score (votes data)\",\n",
    "}\n",
    "df_long[\"score_type\"] = df_long[\"score_type\"].map(legend_labels)\n",
    "\n",
    "chart = (\n",
    "    alt.Chart(df_long)\n",
    "    .mark_circle(size=80)\n",
    "    .encode(\n",
    "        x=alt.X(\"model:N\", sort=df[\"model\"].tolist(), title=\"Model\"),\n",
    "        y=alt.Y(\"score:Q\", title=\"Score\", scale=alt.Scale(domain=[500, 1300])),\n",
    "        color=alt.Color(\"score_type:N\", title=\"Score Type\"),\n",
    "        tooltip=[\"model\", \"score\", \"score_type\"],\n",
    "    )\n",
    "    .properties(width=600, height=400)\n",
    ")\n",
    "\n",
    "chart"
   ]
  },
  {
   "cell_type": "code",
   "execution_count": null,
   "id": "124b831c",
   "metadata": {},
   "outputs": [],
   "source": [
    "chart"
   ]
  },
  {
   "cell_type": "markdown",
   "id": "4cbd13bf",
   "metadata": {},
   "source": [
    "## Scores par catégorie\n",
    "\n",
    "Les méthodes `run_category` et `run_all_categories` permettent de calculer des scores pour une catégorie spécifiée ou pour toutes les catégories (avec un nombre de matchs total supérieur à un seuil)."
   ]
  },
  {
   "cell_type": "code",
   "execution_count": null,
   "id": "8f335bbb",
   "metadata": {},
   "outputs": [],
   "source": [
    "pipeline = RankingPipeline(\n",
    "    method=\"elo_random\",\n",
    "    include_votes=True,\n",
    "    include_reactions=True,\n",
    "    bootstrap_samples=5,\n",
    "    batch=False,\n",
    ")"
   ]
  },
  {
   "cell_type": "code",
   "execution_count": null,
   "id": "ccbcb453",
   "metadata": {},
   "outputs": [],
   "source": [
    "pipeline.run_category(\"Education\")"
   ]
  },
  {
   "cell_type": "code",
   "execution_count": null,
   "id": "efc06527",
   "metadata": {},
   "outputs": [],
   "source": [
    "results = pipeline.run_all_categories()"
   ]
  },
  {
   "cell_type": "code",
   "execution_count": null,
   "id": "3972e690",
   "metadata": {},
   "outputs": [],
   "source": []
  }
 ],
 "metadata": {
  "kernelspec": {
   "display_name": ".venv",
   "language": "python",
   "name": "python3"
  },
  "language_info": {
   "codemirror_mode": {
    "name": "ipython",
    "version": 3
   },
   "file_extension": ".py",
   "mimetype": "text/x-python",
   "name": "python",
   "nbconvert_exporter": "python",
   "pygments_lexer": "ipython3",
   "version": "3.11.2"
  }
 },
 "nbformat": 4,
 "nbformat_minor": 5
}
